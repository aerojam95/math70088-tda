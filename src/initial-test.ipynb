{
 "cells": [
  {
   "cell_type": "code",
   "execution_count": 1,
   "metadata": {},
   "outputs": [],
   "source": [
    "#=============================================================================\n",
    "# Modules\n",
    "#=============================================================================\n",
    "\n",
    "# Import modules\n",
    "import os\n",
    "import gzip\n",
    "\n",
    "import numpy as np\n",
    "\n",
    "from one_parameter_plotting import Rips_Filtration\n",
    "from multiparameter_landscape_plotting import Rips_Filter_Bifiltration"
   ]
  },
  {
   "cell_type": "code",
   "execution_count": 2,
   "metadata": {},
   "outputs": [],
   "source": [
    "#=============================================================================\n",
    "# Functions\n",
    "#=============================================================================\n",
    "\n",
    "def loadImages(file_path:str):\n",
    "    \"\"\"\n",
    "    function that returns the loaded images from a .gz file\n",
    "\n",
    "    Args:\n",
    "        file_path (str): file path for the .gz image file to be loaded \n",
    "\n",
    "    Returns:\n",
    "        data (np array): loaded image data \n",
    "    \"\"\"\n",
    "    with gzip.open(file_path, 'rb') as f:\n",
    "        # Skip the magic number and dimensions (first 16 bytes)\n",
    "        data = np.frombuffer(f.read(), np.uint8, offset=16)\n",
    "    return data.reshape(-1, 28, 28)  # reshape to image size\n",
    "\n",
    "def loadLabels(file_path:str):\n",
    "    \"\"\"\n",
    "    function that returns the loaded labels from a .gz file\n",
    "\n",
    "    Args:\n",
    "        file_path (str): file path for the .gz label file to be loaded\n",
    "\n",
    "    Returns:\n",
    "        data (np array): loaded label data \n",
    "    \"\"\"\n",
    "    with gzip.open(file_path, 'rb') as f:\n",
    "        # Skip the magic number (first 8 bytes)\n",
    "        data = np.frombuffer(f.read(), np.uint8, offset=8)\n",
    "    return data"
   ]
  },
  {
   "cell_type": "code",
   "execution_count": 5,
   "metadata": {},
   "outputs": [],
   "source": [
    "#=============================================================================\n",
    "# Variables\n",
    "#=============================================================================\n",
    "\n",
    "dataPath   = \"../../data/raw/\"\n",
    "outputPath = \"../../outputs/initial-test/\"\n",
    "\n",
    "# Size of image dimensons for Fashion MNIST dataset\n",
    "imageDimensions = 28\n",
    "\n",
    "# Pixel normalisation value\n",
    "pixels = 255."
   ]
  },
  {
   "cell_type": "code",
   "execution_count": 6,
   "metadata": {},
   "outputs": [],
   "source": [
    " ## Paths to the downloaded data files\n",
    "trainImagesPath = os.path.join(dataPath, \"train-images-idx3-ubyte.gz\")\n",
    "trainLabelsPath = os.path.join(dataPath, \"train-labels-idx1-ubyte.gz\")\n",
    "testImagesPath  = os.path.join(dataPath, \"t10k-images-idx3-ubyte.gz\")\n",
    "testLabelsPath  = os.path.join(dataPath, \"t10k-labels-idx1-ubyte.gz\")\n",
    "\n",
    "## Load the datasets\n",
    "trainImages = loadImages(trainImagesPath)\n",
    "trainLabels = loadLabels(trainLabelsPath)\n",
    "testImages  = loadImages(testImagesPath)\n",
    "testLabels  = loadLabels(testLabelsPath)\n",
    "\n",
    "\n",
    "#==========================================================================\n",
    "# Data pre-processing\n",
    "#==========================================================================\n",
    "\n",
    "# pre-process images\n",
    "trainImages = trainImages.reshape(trainImages.shape[0], -1) / pixels\n",
    "testImages = testImages.reshape(testImages.shape[0], -1) / pixels"
   ]
  },
  {
   "cell_type": "code",
   "execution_count": 9,
   "metadata": {},
   "outputs": [
    {
     "data": {
      "text/plain": [
       "(784,)"
      ]
     },
     "execution_count": 9,
     "metadata": {},
     "output_type": "execute_result"
    }
   ],
   "source": [
    "x = trainImages[0]\n",
    "x.reshape(28,28)\n",
    "x.shape"
   ]
  },
  {
   "cell_type": "code",
   "execution_count": null,
   "metadata": {},
   "outputs": [],
   "source": []
  }
 ],
 "metadata": {
  "kernelspec": {
   "display_name": "Python 3",
   "language": "python",
   "name": "python3"
  },
  "language_info": {
   "codemirror_mode": {
    "name": "ipython",
    "version": 3
   },
   "file_extension": ".py",
   "mimetype": "text/x-python",
   "name": "python",
   "nbconvert_exporter": "python",
   "pygments_lexer": "ipython3",
   "version": "3.11.2"
  }
 },
 "nbformat": 4,
 "nbformat_minor": 2
}
